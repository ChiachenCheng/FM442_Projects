{
 "cells": [
  {
   "cell_type": "code",
   "execution_count": 1,
   "metadata": {},
   "outputs": [
    {
     "name": "stderr",
     "output_type": "stream",
     "text": [
      "Loading required package: timechange\n",
      "\n",
      "\n",
      "Attaching package: ‘lubridate’\n",
      "\n",
      "\n",
      "The following objects are masked from ‘package:base’:\n",
      "\n",
      "    date, intersect, setdiff, union\n",
      "\n",
      "\n"
     ]
    }
   ],
   "source": [
    "library(reshape2)\n",
    "library(lubridate)"
   ]
  },
  {
   "cell_type": "code",
   "execution_count": 2,
   "metadata": {},
   "outputs": [],
   "source": [
    "data <- read.csv(\"crsp.csv\")\n",
    "data$Unadjusted_PRC <- data$PRC\n",
    "data$Adjusted_PRC <- data$PRC / data$CFACPR"
   ]
  },
  {
   "cell_type": "code",
   "execution_count": 3,
   "metadata": {},
   "outputs": [
    {
     "data": {
      "text/html": [
       "<table class=\"dataframe\">\n",
       "<caption>A data.frame: 6 × 3</caption>\n",
       "<thead>\n",
       "\t<tr><th></th><th scope=col>date</th><th scope=col>MSFT</th><th scope=col>AAPL</th></tr>\n",
       "\t<tr><th></th><th scope=col>&lt;date&gt;</th><th scope=col>&lt;dbl&gt;</th><th scope=col>&lt;dbl&gt;</th></tr>\n",
       "</thead>\n",
       "<tbody>\n",
       "\t<tr><th scope=row>1</th><td>2010-01-04</td><td>30.950</td><td>7.643214</td></tr>\n",
       "\t<tr><th scope=row>2</th><td>2010-01-05</td><td>30.960</td><td>7.656429</td></tr>\n",
       "\t<tr><th scope=row>3</th><td>2010-01-06</td><td>30.770</td><td>7.534643</td></tr>\n",
       "\t<tr><th scope=row>4</th><td>2010-01-07</td><td>30.452</td><td>7.520714</td></tr>\n",
       "\t<tr><th scope=row>5</th><td>2010-01-08</td><td>30.660</td><td>7.570714</td></tr>\n",
       "\t<tr><th scope=row>6</th><td>2010-01-11</td><td>30.270</td><td>7.503929</td></tr>\n",
       "</tbody>\n",
       "</table>\n"
      ],
      "text/latex": [
       "A data.frame: 6 × 3\n",
       "\\begin{tabular}{r|lll}\n",
       "  & date & MSFT & AAPL\\\\\n",
       "  & <date> & <dbl> & <dbl>\\\\\n",
       "\\hline\n",
       "\t1 & 2010-01-04 & 30.950 & 7.643214\\\\\n",
       "\t2 & 2010-01-05 & 30.960 & 7.656429\\\\\n",
       "\t3 & 2010-01-06 & 30.770 & 7.534643\\\\\n",
       "\t4 & 2010-01-07 & 30.452 & 7.520714\\\\\n",
       "\t5 & 2010-01-08 & 30.660 & 7.570714\\\\\n",
       "\t6 & 2010-01-11 & 30.270 & 7.503929\\\\\n",
       "\\end{tabular}\n"
      ],
      "text/markdown": [
       "\n",
       "A data.frame: 6 × 3\n",
       "\n",
       "| <!--/--> | date &lt;date&gt; | MSFT &lt;dbl&gt; | AAPL &lt;dbl&gt; |\n",
       "|---|---|---|---|\n",
       "| 1 | 2010-01-04 | 30.950 | 7.643214 |\n",
       "| 2 | 2010-01-05 | 30.960 | 7.656429 |\n",
       "| 3 | 2010-01-06 | 30.770 | 7.534643 |\n",
       "| 4 | 2010-01-07 | 30.452 | 7.520714 |\n",
       "| 5 | 2010-01-08 | 30.660 | 7.570714 |\n",
       "| 6 | 2010-01-11 | 30.270 | 7.503929 |\n",
       "\n"
      ],
      "text/plain": [
       "  date       MSFT   AAPL    \n",
       "1 2010-01-04 30.950 7.643214\n",
       "2 2010-01-05 30.960 7.656429\n",
       "3 2010-01-06 30.770 7.534643\n",
       "4 2010-01-07 30.452 7.520714\n",
       "5 2010-01-08 30.660 7.570714\n",
       "6 2010-01-11 30.270 7.503929"
      ]
     },
     "metadata": {},
     "output_type": "display_data"
    }
   ],
   "source": [
    "AAPL <- data[data$PERMNO==14593, c(\"date\", \"Adjusted_PRC\")]\n",
    "names(AAPL)[2] <- \"AAPL\"\n",
    "MSFT <- data[data$PERMNO==10107, c(\"date\", \"Adjusted_PRC\")]\n",
    "names(MSFT)[2] <- \"MSFT\"\n",
    "PRC <- dcast(data, date ~ PERMNO, value.var = \"Adjusted_PRC\")\n",
    "names(PRC) <- c(\"date\", \"MSFT\", \"AAPL\")\n",
    "PRC$date <- ymd(PRC$date)\n",
    "head(PRC)"
   ]
  },
  {
   "cell_type": "code",
   "execution_count": 4,
   "metadata": {},
   "outputs": [
    {
     "data": {
      "text/html": [
       "<table class=\"dataframe\">\n",
       "<caption>A data.frame: 6 × 3</caption>\n",
       "<thead>\n",
       "\t<tr><th></th><th scope=col>date</th><th scope=col>MSFT</th><th scope=col>AAPL</th></tr>\n",
       "\t<tr><th></th><th scope=col>&lt;int&gt;</th><th scope=col>&lt;dbl&gt;</th><th scope=col>&lt;dbl&gt;</th></tr>\n",
       "</thead>\n",
       "<tbody>\n",
       "\t<tr><th scope=row>1</th><td>20100104</td><td> 0.015420</td><td> 0.015555</td></tr>\n",
       "\t<tr><th scope=row>2</th><td>20100105</td><td> 0.000323</td><td> 0.001729</td></tr>\n",
       "\t<tr><th scope=row>3</th><td>20100106</td><td>-0.006137</td><td>-0.015906</td></tr>\n",
       "\t<tr><th scope=row>4</th><td>20100107</td><td>-0.010335</td><td>-0.001849</td></tr>\n",
       "\t<tr><th scope=row>5</th><td>20100108</td><td> 0.006830</td><td> 0.006648</td></tr>\n",
       "\t<tr><th scope=row>6</th><td>20100111</td><td>-0.012720</td><td>-0.008822</td></tr>\n",
       "</tbody>\n",
       "</table>\n"
      ],
      "text/latex": [
       "A data.frame: 6 × 3\n",
       "\\begin{tabular}{r|lll}\n",
       "  & date & MSFT & AAPL\\\\\n",
       "  & <int> & <dbl> & <dbl>\\\\\n",
       "\\hline\n",
       "\t1 & 20100104 &  0.015420 &  0.015555\\\\\n",
       "\t2 & 20100105 &  0.000323 &  0.001729\\\\\n",
       "\t3 & 20100106 & -0.006137 & -0.015906\\\\\n",
       "\t4 & 20100107 & -0.010335 & -0.001849\\\\\n",
       "\t5 & 20100108 &  0.006830 &  0.006648\\\\\n",
       "\t6 & 20100111 & -0.012720 & -0.008822\\\\\n",
       "\\end{tabular}\n"
      ],
      "text/markdown": [
       "\n",
       "A data.frame: 6 × 3\n",
       "\n",
       "| <!--/--> | date &lt;int&gt; | MSFT &lt;dbl&gt; | AAPL &lt;dbl&gt; |\n",
       "|---|---|---|---|\n",
       "| 1 | 20100104 |  0.015420 |  0.015555 |\n",
       "| 2 | 20100105 |  0.000323 |  0.001729 |\n",
       "| 3 | 20100106 | -0.006137 | -0.015906 |\n",
       "| 4 | 20100107 | -0.010335 | -0.001849 |\n",
       "| 5 | 20100108 |  0.006830 |  0.006648 |\n",
       "| 6 | 20100111 | -0.012720 | -0.008822 |\n",
       "\n"
      ],
      "text/plain": [
       "  date     MSFT      AAPL     \n",
       "1 20100104  0.015420  0.015555\n",
       "2 20100105  0.000323  0.001729\n",
       "3 20100106 -0.006137 -0.015906\n",
       "4 20100107 -0.010335 -0.001849\n",
       "5 20100108  0.006830  0.006648\n",
       "6 20100111 -0.012720 -0.008822"
      ]
     },
     "metadata": {},
     "output_type": "display_data"
    }
   ],
   "source": [
    "RET <- dcast(data, date ~ PERMNO, value.var = \"RET\")\n",
    "names(RET) <- c(\"date\", \"MSFT\", \"AAPL\")\n",
    "head(RET)"
   ]
  },
  {
   "cell_type": "code",
   "execution_count": 5,
   "metadata": {},
   "outputs": [
    {
     "ename": "ERROR",
     "evalue": "Error in `[.data.frame`(RET, , 2:7): undefined columns selected\n",
     "output_type": "error",
     "traceback": [
      "Error in `[.data.frame`(RET, , 2:7): undefined columns selected\nTraceback:\n",
      "1. RET[, 2:7]",
      "2. `[.data.frame`(RET, , 2:7)",
      "3. stop(\"undefined columns selected\")"
     ]
    }
   ],
   "source": [
    "Y <- log(1 + RET[,2:3])\n",
    "Y$date <- ymd(RET$date)\n",
    "head(Y)"
   ]
  },
  {
   "cell_type": "code",
   "execution_count": null,
   "metadata": {},
   "outputs": [],
   "source": [
    "# Saving the data frame of returns\n",
    "save(Y, file = \"Y.RData\")\n",
    "\n",
    "# Saving the data frame of prices\n",
    "save(PRC, file = \"PRC.RData\")"
   ]
  }
 ],
 "metadata": {
  "kernelspec": {
   "display_name": "R",
   "language": "R",
   "name": "kernelspec"
  },
  "language_info": {
   "codemirror_mode": "r",
   "file_extension": ".r",
   "mimetype": "text/x-r-source",
   "name": "R",
   "pygments_lexer": "r",
   "version": "4.2.1"
  }
 },
 "nbformat": 4,
 "nbformat_minor": 4
}
